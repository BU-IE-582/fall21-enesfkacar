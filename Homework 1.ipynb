{
 "cells": [
  {
   "cell_type": "markdown",
   "metadata": {},
   "source": [
    "# Task 1 – Curse of dimensionality and effect of sample size"
   ]
  },
  {
   "cell_type": "markdown",
   "metadata": {},
   "source": [
    "## For D from 1 to 15 dimensions, simulate 1000 random D-dimensional points, where the value in each dimension is uniformly randomly distributed between -1 and +1. "
   ]
  },
  {
   "cell_type": "markdown",
   "metadata": {},
   "source": [
    "## a) Calculate the fraction of these points that are within distance 1 of the origin, giving an approximation of the volume of the unit hypersphere to the hypercube inscribing it. Plot this fraction as a function of D (a scatter plot of D versus the fraction)."
   ]
  },
  {
   "cell_type": "code",
   "execution_count": 18,
   "metadata": {},
   "outputs": [],
   "source": [
    "import numpy as np\n",
    "dimension=15\n",
    "num_points=1000\n",
    "fractions=[]\n",
    "for i in range(1,dimension+1):\n",
    "    points = np.random.uniform(low=-1.0,high=1.0,size=(num_points,i))\n",
    "    distances=np.linalg.norm(points, axis=1)\n",
    "    fractions.append(np.sum(distances<1)/len(distances))\n",
    "    \n",
    "    "
   ]
  },
  {
   "cell_type": "code",
   "execution_count": 19,
   "metadata": {},
   "outputs": [],
   "source": [
    "fractions=[]\n",
    "for i in range(1,dimension+1):\n",
    "    points = np.random.uniform(low=-1.0,high=1.0,size=(num_points,i))\n",
    "    distances=np.linalg.norm(points, axis=1)\n",
    "    fractions.append(np.sum(distances<1)/len(distances))\n",
    "    \n",
    "    "
   ]
  },
  {
   "cell_type": "code",
   "execution_count": 20,
   "metadata": {},
   "outputs": [
    {
     "data": {
      "text/plain": [
       "Text(0, 0.5, 'Fraction')"
      ]
     },
     "execution_count": 20,
     "metadata": {},
     "output_type": "execute_result"
    },
    {
     "data": {
      "image/png": "[encoded data removed]",
      "text/plain": [
       "<Figure size 432x288 with 1 Axes>"
      ]
     },
     "metadata": {},
     "output_type": "display_data"
    }
   ],
   "source": [
    "import matplotlib.pyplot as plt\n",
    "plt.style.use('fivethirtyeight')\n",
    "import matplotlib.image as mpimg\n",
    "plt.plot(np.arange(1,16,1),fractions)\n",
    "plt.xlabel(\"Dimension\")\n",
    "plt.ylabel(\"Fraction\")\n"
   ]
  },
  {
   "cell_type": "markdown",
   "metadata": {},
   "source": [
    "## b) Use the value of this fraction at D = 2 and D = 3 to get estimates for the value of pi (Π) as you know the area (for D = 2) and volume (for D = 3) formulae for these cases."
   ]
  },
  {
   "cell_type": "code",
   "execution_count": 21,
   "metadata": {},
   "outputs": [
    {
     "name": "stdout",
     "output_type": "stream",
     "text": [
      "Pi is  3.176 for D=2\n"
     ]
    }
   ],
   "source": [
    "#For D=2\n",
    "print(\"Pi is \", 4*fractions[1],\"for D=2\")"
   ]
  },
  {
   "cell_type": "code",
   "execution_count": 22,
   "metadata": {},
   "outputs": [
    {
     "name": "stdout",
     "output_type": "stream",
     "text": [
      "Pi is  3.162 for D=3\n"
     ]
    }
   ],
   "source": [
    "#For D=3\n",
    "print(\"Pi is \", 6*fractions[2],\"for D=3\")"
   ]
  },
  {
   "cell_type": "markdown",
   "metadata": {},
   "source": [
    "## c) Perform the calculations in part (b) with larger sample sizes. You can use the following set: {5000, 10000, 25000, 50000, 100000}. Visualize the estimated Π for D = 2 and D = 3 cases. Comment on your results"
   ]
  },
  {
   "cell_type": "code",
   "execution_count": 23,
   "metadata": {},
   "outputs": [],
   "source": [
    "num_points=[5000, 10000, 25000, 50000, 100000]\n",
    "fractions=[]\n",
    "fractions_D2=[]\n",
    "fractions_D3=[]\n",
    "for i in num_points:\n",
    "    for j in range(2,4):\n",
    "        points = np.random.uniform(low=-1.0,high=1.0,size=(i,j))\n",
    "        distances=np.linalg.norm(points, axis=1)\n",
    "        fractions.append(np.sum(distances<1)/len(distances))\n",
    "for i in range(len(fractions)):\n",
    "    if i%2==0:\n",
    "        fractions_D2.append(fractions[i])\n",
    "    else:\n",
    "        fractions_D3.append(fractions[i])\n",
    "est_D2=[element * 4 for element in fractions_D2]  \n",
    "est_D3=[element * 6 for element in fractions_D3]"
   ]
  },
  {
   "cell_type": "code",
   "execution_count": 24,
   "metadata": {},
   "outputs": [],
   "source": [
    "import pandas as pd\n",
    "import seaborn as sns\n",
    "sns.set_theme(style=\"whitegrid\")"
   ]
  },
  {
   "cell_type": "code",
   "execution_count": 25,
   "metadata": {},
   "outputs": [
    {
     "data": {
      "text/html": [
       "<div>\n",
       "<style scoped>\n",
       "    .dataframe tbody tr th:only-of-type {\n",
       "        vertical-align: middle;\n",
       "    }\n",
       "\n",
       "    .dataframe tbody tr th {\n",
       "        vertical-align: top;\n",
       "    }\n",
       "\n",
       "    .dataframe thead th {\n",
       "        text-align: right;\n",
       "    }\n",
       "</style>\n",
       "<table border=\"1\" class=\"dataframe\">\n",
       "  <thead>\n",
       "    <tr style=\"text-align: right;\">\n",
       "      <th></th>\n",
       "      <th>Estimation for D=2</th>\n",
       "      <th>Estimation for D=3</th>\n",
       "    </tr>\n",
       "    <tr>\n",
       "      <th>DataPoints</th>\n",
       "      <th></th>\n",
       "      <th></th>\n",
       "    </tr>\n",
       "  </thead>\n",
       "  <tbody>\n",
       "    <tr>\n",
       "      <th>5000</th>\n",
       "      <td>3.12480</td>\n",
       "      <td>3.17280</td>\n",
       "    </tr>\n",
       "    <tr>\n",
       "      <th>10000</th>\n",
       "      <td>3.15000</td>\n",
       "      <td>3.16440</td>\n",
       "    </tr>\n",
       "    <tr>\n",
       "      <th>25000</th>\n",
       "      <td>3.13552</td>\n",
       "      <td>3.15816</td>\n",
       "    </tr>\n",
       "    <tr>\n",
       "      <th>50000</th>\n",
       "      <td>3.14616</td>\n",
       "      <td>3.15156</td>\n",
       "    </tr>\n",
       "    <tr>\n",
       "      <th>100000</th>\n",
       "      <td>3.13956</td>\n",
       "      <td>3.15420</td>\n",
       "    </tr>\n",
       "  </tbody>\n",
       "</table>\n",
       "</div>"
      ],
      "text/plain": [
       "            Estimation for D=2  Estimation for D=3\n",
       "DataPoints                                        \n",
       "5000                   3.12480             3.17280\n",
       "10000                  3.15000             3.16440\n",
       "25000                  3.13552             3.15816\n",
       "50000                  3.14616             3.15156\n",
       "100000                 3.13956             3.15420"
      ]
     },
     "execution_count": 25,
     "metadata": {},
     "output_type": "execute_result"
    }
   ],
   "source": [
    "data = pd.DataFrame({'DataPoints' : num_points,\n",
    "                                'Estimation for D=2' : est_D2,\n",
    "                                'Estimation for D=3' : est_D3 }, \n",
    "                                columns=['DataPoints','Estimation for D=2', 'Estimation for D=3'])\n",
    "data=data.set_index('DataPoints')\n",
    "data              "
   ]
  },
  {
   "cell_type": "code",
   "execution_count": 26,
   "metadata": {},
   "outputs": [
    {
     "data": {
      "text/plain": [
       "<AxesSubplot:xlabel='DataPoints'>"
      ]
     },
     "execution_count": 26,
     "metadata": {},
     "output_type": "execute_result"
    },
    {
     "data": {
      "image/png": "[encoded data removed]",
      "text/plain": [
       "<Figure size 432x288 with 1 Axes>"
      ]
     },
     "metadata": {},
     "output_type": "display_data"
    }
   ],
   "source": [
    "sns.lineplot(data=data,palette=\"tab10\", linewidth=5)"
   ]
  },
  {
   "cell_type": "markdown",
   "metadata": {},
   "source": [
    "## d) Repeat this simulation, sampling 1000 D-dimensional points from 1 to 15 dimensions, where the value in each dimension is uniformly randomly distributed between -1 and +1. For each value of D, generate an additional 100 test instances and calculate the distance to each test instance’s nearest neighbor. Plot the average distance from the test instances to their nearest neighbors as a function of D."
   ]
  },
  {
   "cell_type": "code",
   "execution_count": 27,
   "metadata": {},
   "outputs": [],
   "source": [
    "import numpy as np\n",
    "dimension=15\n",
    "num_points=1000\n",
    "test_num_points=100\n",
    "fractions=[]\n",
    "\n",
    "for i in range(1,dimension+1):\n",
    "    points = np.random.uniform(low=-1.0,high=1.0,size=(num_points,i))\n",
    "    test_points = np.random.uniform(low=-1.0,high=1.0,size=(test_num_points,i))"
   ]
  },
  {
   "cell_type": "code",
   "execution_count": 31,
   "metadata": {},
   "outputs": [],
   "source": [
    "def nearest_neighbor (dimensions, test_dim):\n",
    "    dist=np.sqrt(np.sum((dimensions-test_dim)**2, axis=1))\n",
    "    return np.min(dist)"
   ]
  },
  {
   "cell_type": "code",
   "execution_count": null,
   "metadata": {},
   "outputs": [],
   "source": []
  },
  {
   "cell_type": "code",
   "execution_count": null,
   "metadata": {},
   "outputs": [],
   "source": [
    "neighbor <- function(dim){\n",
    "    df = data.table(replicate(dim, runif(1100, min = -1, max = 1)))\n",
    "    d = dist(df,  method = \"euclidean\")\n",
    "    distances = as.matrix(d)[1:1000,1001:1100]\n",
    "    closest_distance <- apply(distances,2,min)\n",
    "    avg = mean(closest_distance)\n",
    "    return(avg)\n",
    "    }\n",
    "nn = c()\n",
    "for(d in 1:15){\n",
    "    nn <- c(nn, neighbor(d))\n",
    "}\n",
    "nn_dt = data.table(dim=c(1:15), average_min_distance=nn)\n",
    "plot(nn_dt)"
   ]
  },
  {
   "cell_type": "code",
   "execution_count": null,
   "metadata": {},
   "outputs": [],
   "source": [
    "means = {}\n",
    "for D in range(dimension):\n",
    "    mins = []    \n",
    "    for i in test_points[D]:\n",
    "        dist1 = []\n",
    "        for j in points[D]:\n",
    "            dist1.append(euc_dist(i,j))           \n",
    "        mins.append(min(dist1))\n",
    "    \n",
    "    means[D] = np.mean(mins)"
   ]
  },
  {
   "cell_type": "markdown",
   "metadata": {},
   "source": [
    "# Task 2 – Practicing data manipulation skills on images\n",
    "## a) Read image as a variable in R/Python. You need to install “jpeg” package to read image into a variable if you use R. For Python, an alternative is to use matplotlib package. What is the structure of the variable that stores the image? What is the dimension? a. Display the image"
   ]
  },
  {
   "cell_type": "code",
   "execution_count": null,
   "metadata": {},
   "outputs": [],
   "source": [
    "import matplotlib.image as mpimg\n",
    "img=mpimg.imread('IMG.jpg')\n",
    "imgplot=plt.imshow(img)\n",
    "print('Structure: ',type(img))\n",
    "print('# of dims: ',img.ndim)     \n",
    "print('Img shape: ',img.shape)  \n",
    "print('Dtype: ',img.dtype)\n",
    "plt.show()\n"
   ]
  },
  {
   "cell_type": "markdown",
   "metadata": {},
   "source": [
    "## b) Display each channel as separate image"
   ]
  },
  {
   "cell_type": "code",
   "execution_count": null,
   "metadata": {},
   "outputs": [],
   "source": [
    "channel_0 = img.copy()\n",
    "channel_0 =channel_0[:, :, 0] \n",
    "channel_1 = img.copy()\n",
    "channel_1 =channel_1[:, :, 1] \n",
    "channel_2 = img.copy()\n",
    "channel_2 =channel_2[:, :, 2] \n",
    "\n",
    "channels = np.concatenate((channel_0, channel_1, channel_2), axis=1)\n",
    "im_RGB = np.hstack((channel_0, channel_1, channel_2))\n",
    "im_RGB = np.c_['1', channel_0, channel_1, channel_2]\n",
    "plt.imshow(im_RGB)\n",
    "plt.show()\n",
    "\n"
   ]
  },
  {
   "cell_type": "markdown",
   "metadata": {},
   "source": [
    "## c) For each channel, take the average of the columns and plot the average as a line plot for each channel on a single plot."
   ]
  },
  {
   "cell_type": "code",
   "execution_count": null,
   "metadata": {},
   "outputs": [],
   "source": [
    "plt.style.use('fivethirtyeight')\n",
    "plt.figure(figsize=(20,5))\n",
    "for i in range(3):\n",
    "    channel = img[:,:, i]\n",
    "    col_avg = np.mean(channel, axis = 0)\n",
    "    plt.plot(list(range(col_avg.shape[0])), col_avg, label=f\"CH{i}\")\n",
    "plt.legend()\n",
    "plt.show()"
   ]
  },
  {
   "cell_type": "markdown",
   "metadata": {},
   "source": [
    "## d) For each channel, subtract one half of the image from the other half (choice of halves is up to you but dividing the head image vertically into two parts make more sense). If you observe negative pixel values, you can make them equal to zero. Then:\n",
    "   ## • Display the new image. \n",
    "   ## • Display each channel separately as separate image."
   ]
  },
  {
   "cell_type": "code",
   "execution_count": null,
   "metadata": {},
   "outputs": [],
   "source": [
    "half=img.shape[1]//2\n",
    "left_half=img[:,:half,:]\n",
    "\n",
    "plt.imshow(left_half)"
   ]
  },
  {
   "cell_type": "code",
   "execution_count": null,
   "metadata": {},
   "outputs": [],
   "source": [
    "half=img.shape[1]//2\n",
    "left_half=img[:,:half,:]\n",
    "right_half=img[:,half:,:]\n",
    "left_half=left_half-right_half\n",
    "left_half=left_half.clip(min=0)\n",
    "print('channel 0')\n",
    "plt.imshow(left_half[:,:,0])\n",
    "plt.show()\n",
    "print('channel 1')\n",
    "plt.imshow(left_half[:,:,1])\n",
    "plt.show()\n",
    "print('channel 2')\n",
    "plt.imshow(left_half[:,:,2])\n",
    "plt.show()\n",
    "print('all channels')\n",
    "plt.imshow(left_half)\n",
    "plt.show()"
   ]
  },
  {
   "cell_type": "markdown",
   "metadata": {},
   "source": [
    "## e) In order to create a noisy image, add a random noise from uniform distribution with minimum value of 0 and a maximum value of “0.1 * maximum pixel value observed” to each pixel value for each channel of original image. • Display the new image. • Display each channel separately as separate image."
   ]
  },
  {
   "cell_type": "code",
   "execution_count": null,
   "metadata": {},
   "outputs": [],
   "source": [
    "noise = np.random.uniform(0, 0.1*np.max(img), size=img.shape)\n",
    "noisy_image=noise+img\n",
    "noisy_image=noisy_image.clip(0,255).astype(int)\n",
    "print('channel 0')\n",
    "plt.imshow(noisy_image[:,:,0])\n",
    "plt.show()\n",
    "print('channel 1')\n",
    "plt.imshow(noisy_image[:,:,1])\n",
    "plt.show()\n",
    "print('channel 2')\n",
    "plt.imshow(noisy_image[:,:,2])\n",
    "plt.show()\n",
    "print('all channels')\n",
    "plt.imshow(noisy_image[:,:,:])\n",
    "plt.show()\n"
   ]
  }
 ],
 "metadata": {
  "interpreter": {
   "hash": "949777d72b0d2535278d3dc13498b2535136f6dfe0678499012e853ee9abcab1"
  },
  "kernelspec": {
   "display_name": "Python 3.9.6 64-bit",
   "name": "python3"
  },
  "language_info": {
   "codemirror_mode": {
    "name": "ipython",
    "version": 3
   },
   "file_extension": ".py",
   "mimetype": "text/x-python",
   "name": "python",
   "nbconvert_exporter": "python",
   "pygments_lexer": "ipython3",
   "version": "3.9.6"
  },
  "orig_nbformat": 4
 },
 "nbformat": 4,
 "nbformat_minor": 2
}
